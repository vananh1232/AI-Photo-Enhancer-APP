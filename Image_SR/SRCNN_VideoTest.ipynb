{
  "nbformat": 4,
  "nbformat_minor": 0,
  "metadata": {
    "colab": {
      "name": "SRCNN_VideoTest.ipynb",
      "provenance": []
    },
    "kernelspec": {
      "name": "python3",
      "display_name": "Python 3"
    },
    "language_info": {
      "name": "python"
    },
    "accelerator": "GPU"
  },
  "cells": [
    {
      "cell_type": "code",
      "metadata": {
        "id": "h3Exrc7wrZmC"
      },
      "source": [
        "import cv2\n",
        "import tensorflow as tf\n",
        "from tensorflow import keras\n",
        "from tensorflow.keras import layers\n",
        "from tensorflow.keras import models\n",
        "from google.colab import drive\n",
        "import os"
      ],
      "execution_count": null,
      "outputs": []
    },
    {
      "cell_type": "code",
      "metadata": {
        "id": "t4S-CWlPiLNV"
      },
      "source": [
        "vidcap = cv2.VideoCapture('/content/movietest.mp4')\n",
        "def getFrame(sec):\n",
        "    vidcap.set(cv2.CAP_PROP_POS_MSEC,sec*1000)\n",
        "    hasFrames,image = vidcap.read()\n",
        "    if hasFrames:\n",
        "        cv2.imwrite('/content/gdrive/MyDrive/Final_Project_Super Resolution/VideoImage/'+str(count)+\".jpg\", image)     # save frame as JPG file\n",
        "    return hasFrames\n",
        "sec = 0\n",
        "frameRate = 0.1 #//it will capture image in each 0.5 second\n",
        "count=1\n",
        "success = getFrame(sec)\n",
        "while success:\n",
        "    count = count + 1\n",
        "    sec = sec + frameRate\n",
        "    sec = round(sec, 2)\n",
        "    success = getFrame(sec)"
      ],
      "execution_count": null,
      "outputs": []
    },
    {
      "cell_type": "code",
      "metadata": {
        "colab": {
          "base_uri": "https://localhost:8080/"
        },
        "id": "qJURkgiGiXIH",
        "outputId": "f85b40c9-0e80-4c58-9fef-540213cca198"
      },
      "source": [
        "#Mount drive to Google Colab\n",
        "\n",
        "drive.mount('/content/gdrive')"
      ],
      "execution_count": null,
      "outputs": [
        {
          "output_type": "stream",
          "text": [
            "Mounted at /content/gdrive\n"
          ],
          "name": "stdout"
        }
      ]
    },
    {
      "cell_type": "code",
      "metadata": {
        "id": "BoOHxPENiw62"
      },
      "source": [
        "model = keras.models.load_model('/content/gdrive/MyDrive/Final_Project_Super Resolution/Results/superresolution3.h5')"
      ],
      "execution_count": null,
      "outputs": []
    },
    {
      "cell_type": "code",
      "metadata": {
        "id": "87k2KKl8jKec"
      },
      "source": [
        "import cv2\n",
        "import numpy as np\n",
        "import os\n",
        "from os.path import isfile, join\n",
        "pathIn= '/content/gdrive/MyDrive/Final_Project_Super Resolution/VideoImage/'\n",
        "pathOut = 'video24.mp4'\n",
        "fps = 9.9\n",
        "frame_array = []\n",
        "files = [f for f in os.listdir(pathIn) if isfile(join(pathIn, f))]\n",
        "#for sorting the file names properly\n",
        "files.sort(key = lambda x: x[5:-4])\n",
        "files.sort()\n",
        "frame_array = []\n",
        "files = [f for f in os.listdir(pathIn) if isfile(join(pathIn, f))]\n",
        "#for sorting the file names properly\n",
        "files.sort(key = lambda x: x[5:-4])\n",
        "for i in range(len(files)):\n",
        "    filename=pathIn + files[i]\n",
        "    #reading each files\n",
        "    #img=cv2.imread(filename)\n",
        "    img=process_images(filename)\n",
        "    height, width, layers = img.shape\n",
        "    size = (width,height)\n",
        "    \n",
        "    #inserting the frames into an image array\n",
        "    frame_array.append(img)\n",
        "out = cv2.VideoWriter(pathOut,cv2.VideoWriter_fourcc(*'DIVX'), fps, size)\n",
        "for i in range(len(frame_array)):\n",
        "    # writing to a image array\n",
        "    out.write(frame_array[i])\n",
        "out.release()"
      ],
      "execution_count": null,
      "outputs": []
    },
    {
      "cell_type": "code",
      "metadata": {
        "id": "aEp1TC2Zni56"
      },
      "source": [
        "def process_images(filepath):\n",
        "\n",
        "    target = cv2.imread(filepath, cv2.IMREAD_COLOR)\n",
        "    target = cv2.cvtColor(target, cv2.COLOR_BGR2YCrCb)\n",
        "    shape = target.shape\n",
        "\n",
        "    Y_img = cv2.resize(target[:, :, 0], (int(shape[1] / 1), int(shape[0] / 1)), cv2.INTER_CUBIC)\n",
        "\n",
        "    # Resize up to orignal image\n",
        "    Y_img = cv2.resize(Y_img, (shape[1], shape[0]), cv2.INTER_CUBIC)\n",
        "    target[:, :, 0] = Y_img\n",
        "    target = cv2.cvtColor(target, cv2.COLOR_YCrCb2BGR)\n",
        "\n",
        "    Y = np.zeros((1, target.shape[0], target.shape[1], 1), dtype=np.float32)\n",
        "\n",
        "    # Normalize\n",
        "    Y[0, :, :, 0] = Y_img.astype(np.float32) / 255.\n",
        "\n",
        "    # Predict\n",
        "    pre = model.predict(Y, batch_size=1) * 255.\n",
        "\n",
        "    # Post process output\n",
        "    pre[pre[:] > 255] = 255\n",
        "    pre[pre[:] < 0] = 0\n",
        "    pre = pre.astype(np.uint8)\n",
        "\n",
        "    # Copy y channel back to image and convert to BGR\n",
        "    output = cv2.cvtColor(target, cv2.COLOR_BGR2YCrCb)\n",
        "    output[6: -6, 6: -6, 0] = pre[0, :, :, 0]\n",
        "    output = cv2.cvtColor(output, cv2.COLOR_YCrCb2BGR)\n",
        "    return output\n"
      ],
      "execution_count": null,
      "outputs": []
    },
    {
      "cell_type": "code",
      "metadata": {
        "id": "k9Rs_17Uq-Rt"
      },
      "source": [
        "for filename in os.listdir('/content/gdrive/MyDrive/Final_Project_Super Resolution/VideoImage/'):\n",
        "    folder='/content/gdrive/MyDrive/Final_Project_Super Resolution/VideoImage'\n",
        "    path=os.path.join(folder,filename)\n",
        "    output=process_images(path)\n",
        "    cv2.imwrite('/content/gdrive/MyDrive/Final_Project_Super Resolution/upscaledvideo/'+filename,output)\n",
        "  "
      ],
      "execution_count": null,
      "outputs": []
    }
  ]
}